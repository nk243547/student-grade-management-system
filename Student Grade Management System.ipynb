{
 "cells": [
  {
   "cell_type": "markdown",
   "id": "c336b7d9-3ef7-4dda-ac22-ed497c78d734",
   "metadata": {},
   "source": [
    "# Create Sample Data File"
   ]
  },
  {
   "cell_type": "code",
   "execution_count": 1,
   "id": "96aeabb4-778d-4f7b-a8f2-69dca52ad081",
   "metadata": {},
   "outputs": [
    {
     "name": "stdout",
     "output_type": "stream",
     "text": [
      "Sample students.txt file created with 6 student records!\n"
     ]
    }
   ],
   "source": [
    "# Create Sample Data File\n",
    "sample_data = \"\"\"Alice 85\n",
    "Bob 92\n",
    "Charlie 78\n",
    "David 88\n",
    "Emma 95\n",
    "Frank 72\"\"\"\n",
    "\n",
    "with open('students.txt', 'w') as f:\n",
    "    f.write(sample_data)\n",
    "\n",
    "print(\"Sample students.txt file created with 6 student records!\")"
   ]
  },
  {
   "cell_type": "markdown",
   "id": "41bca282-5195-48e9-82b4-df83185a1ea5",
   "metadata": {},
   "source": [
    "# File Reading Function"
   ]
  },
  {
   "cell_type": "code",
   "execution_count": 2,
   "id": "537e250f-90b4-4ef7-8bb6-ab9af91ae558",
   "metadata": {},
   "outputs": [],
   "source": [
    "# File Reading with Error Handling\n",
    "def read_file_to_dict(filename):\n",
    "    \"\"\"\n",
    "    Reads student data from a file and returns a dictionary.\n",
    "    Handles file errors and data validation gracefully.\n",
    "    \"\"\"\n",
    "    student_dict = {}\n",
    "    try:\n",
    "        with open(filename, 'r') as file:\n",
    "            for line_number, line in enumerate(file, 1):\n",
    "                line = line.strip()\n",
    "                if line:  # Skip empty lines\n",
    "                    parts = line.split()\n",
    "                    if len(parts) >= 2:\n",
    "                        name = parts[0]\n",
    "                        try:\n",
    "                            grade = float(parts[1])\n",
    "                            if 0 <= grade <= 100:  # Validate grade range\n",
    "                                student_dict[name] = grade\n",
    "                            else:\n",
    "                                print(f\"Warning: Grade out of range for {name} on line {line_number}\")\n",
    "                        except ValueError:\n",
    "                            print(f\"Warning: Invalid grade format for {name} on line {line_number}\")\n",
    "                    else:\n",
    "                        print(f\"Warning: Insufficient data on line {line_number}\")\n",
    "    except FileNotFoundError:\n",
    "        print(f\"Info: File '{filename}' not found. Starting with empty database.\")\n",
    "    except Exception as e:\n",
    "        print(f\"Error reading file: {e}\")\n",
    "    \n",
    "    return student_dict"
   ]
  },
  {
   "cell_type": "markdown",
   "id": "f83a6539-9777-47b9-9ffd-cbdb3632c7b3",
   "metadata": {},
   "source": [
    "# Data Manipulation Functions"
   ]
  },
  {
   "cell_type": "code",
   "execution_count": 3,
   "id": "afb41be7-9dd6-404b-ba8b-cbe18957edfd",
   "metadata": {},
   "outputs": [],
   "source": [
    "# Data Manipulation Functions\n",
    "def add_student(student_dict, name, grade):\n",
    "    \"\"\"\n",
    "    Adds a new student to the dictionary with validation.\n",
    "    \"\"\"\n",
    "    try:\n",
    "        grade = float(grade)\n",
    "        if grade < 0 or grade > 100:\n",
    "            return \"Error: Grade must be between 0 and 100\"\n",
    "        \n",
    "        if name in student_dict:\n",
    "            return f\"Warning: {name} already exists. Overwriting grade.\"\n",
    "        \n",
    "        student_dict[name] = grade\n",
    "        return f\"Success: Added {name} with grade {grade}\"\n",
    "    except ValueError:\n",
    "        return \"Error: Grade must be a valid number\"\n",
    "\n",
    "def calculate_average(student_dict):\n",
    "    \"\"\"\n",
    "    Calculates the average grade from the dictionary.\n",
    "    Returns 0 if dictionary is empty.\n",
    "    \"\"\"\n",
    "    if not student_dict:\n",
    "        return 0\n",
    "    return sum(student_dict.values()) / len(student_dict)"
   ]
  },
  {
   "cell_type": "markdown",
   "id": "ff0a95f5-fbbe-4855-a8d2-305616d2833e",
   "metadata": {},
   "source": [
    "# Data Analysis Function"
   ]
  },
  {
   "cell_type": "code",
   "execution_count": 4,
   "id": "9e2e7029-030f-491c-9cb6-23166483004c",
   "metadata": {},
   "outputs": [],
   "source": [
    "# Data Analysis Function\n",
    "def print_above_average_students(student_dict, average):\n",
    "    \"\"\"\n",
    "    Prints students who scored above the given average.\n",
    "    Handles empty dictionaries and edge cases.\n",
    "    \"\"\"\n",
    "    if not student_dict:\n",
    "        print(\"No student data available.\")\n",
    "        return\n",
    "    \n",
    "    above_average_students = {\n",
    "        name: grade for name, grade in student_dict.items() \n",
    "        if grade > average\n",
    "    }\n",
    "    \n",
    "    if not above_average_students:\n",
    "        print(\"No students scored above the average.\")\n",
    "        return\n",
    "    \n",
    "    print(f\"\\nStudents above average ({average:.2f}):\")\n",
    "    print(\"-\" * 40)\n",
    "    for name, grade in sorted(above_average_students.items(), \n",
    "                             key=lambda x: x[1], reverse=True):\n",
    "        print(f\"{name:<15} : {grade:>6.2f}\")"
   ]
  },
  {
   "cell_type": "markdown",
   "id": "49232005-b1ca-49cb-b81a-ac9bcf96b1c1",
   "metadata": {},
   "source": [
    "# Initialize and Load Data"
   ]
  },
  {
   "cell_type": "code",
   "execution_count": 5,
   "id": "59a72bf5-2902-4604-a084-6ecd5656d91b",
   "metadata": {},
   "outputs": [
    {
     "name": "stdout",
     "output_type": "stream",
     "text": [
      "Student Grade Management System\n",
      "========================================\n",
      "Loaded 6 student records from file.\n",
      "Current students: {'Alice': 85.0, 'Bob': 92.0, 'Charlie': 78.0, 'David': 88.0, 'Emma': 95.0, 'Frank': 72.0}\n"
     ]
    }
   ],
   "source": [
    "# Initialize and Load Data\n",
    "filename = \"students.txt\"\n",
    "students = read_file_to_dict(filename)\n",
    "\n",
    "print(\"Student Grade Management System\")\n",
    "print(\"=\" * 40)\n",
    "\n",
    "if students:\n",
    "    print(f\"Loaded {len(students)} student records from file.\")\n",
    "    print(\"Current students:\", students)\n",
    "else:\n",
    "    print(\"No existing student records found.\")"
   ]
  },
  {
   "cell_type": "markdown",
   "id": "dbc7e1bb-19f1-4aa8-b2f6-8ea045df0f6c",
   "metadata": {},
   "source": [
    "# Main Menu System"
   ]
  },
  {
   "cell_type": "code",
   "execution_count": 6,
   "id": "0e779529-ff6c-4682-a67a-0e38ed64829d",
   "metadata": {},
   "outputs": [
    {
     "name": "stdout",
     "output_type": "stream",
     "text": [
      "\n",
      "Options:\n",
      "1. Add new student data\n",
      "2. Calculate average grade\n",
      "3. Print students who scored above average\n",
      "4. View all students\n",
      "5. Exit\n"
     ]
    },
    {
     "name": "stdin",
     "output_type": "stream",
     "text": [
      "Enter your choice (1-5):  1\n",
      "Enter student name:  John\n",
      "Enter student grade (0-100):  78\n"
     ]
    },
    {
     "name": "stdout",
     "output_type": "stream",
     "text": [
      "Success: Added John with grade 78.0\n",
      "\n",
      "Options:\n",
      "1. Add new student data\n",
      "2. Calculate average grade\n",
      "3. Print students who scored above average\n",
      "4. View all students\n",
      "5. Exit\n"
     ]
    },
    {
     "name": "stdin",
     "output_type": "stream",
     "text": [
      "Enter your choice (1-5):  4\n"
     ]
    },
    {
     "name": "stdout",
     "output_type": "stream",
     "text": [
      "\n",
      "All Students:\n",
      "-------------------------\n",
      "Alice           :  85.00\n",
      "Bob             :  92.00\n",
      "Charlie         :  78.00\n",
      "David           :  88.00\n",
      "Emma            :  95.00\n",
      "Frank           :  72.00\n",
      "John            :  78.00\n",
      "\n",
      "Options:\n",
      "1. Add new student data\n",
      "2. Calculate average grade\n",
      "3. Print students who scored above average\n",
      "4. View all students\n",
      "5. Exit\n"
     ]
    },
    {
     "name": "stdin",
     "output_type": "stream",
     "text": [
      "Enter your choice (1-5):  3\n"
     ]
    },
    {
     "name": "stdout",
     "output_type": "stream",
     "text": [
      "\n",
      "Students above average (84.00):\n",
      "----------------------------------------\n",
      "Emma            :  95.00\n",
      "Bob             :  92.00\n",
      "David           :  88.00\n",
      "Alice           :  85.00\n",
      "\n",
      "Options:\n",
      "1. Add new student data\n",
      "2. Calculate average grade\n",
      "3. Print students who scored above average\n",
      "4. View all students\n",
      "5. Exit\n"
     ]
    },
    {
     "name": "stdin",
     "output_type": "stream",
     "text": [
      "Enter your choice (1-5):  5\n"
     ]
    },
    {
     "name": "stdout",
     "output_type": "stream",
     "text": [
      "Thank you for using Student Grade Management System!\n"
     ]
    }
   ],
   "source": [
    "# Interactive Menu System\n",
    "while True:\n",
    "    print(\"\\nOptions:\")\n",
    "    print(\"1. Add new student data\")\n",
    "    print(\"2. Calculate average grade\")\n",
    "    print(\"3. Print students who scored above average\")\n",
    "    print(\"4. View all students\")\n",
    "    print(\"5. Exit\")\n",
    "\n",
    "    choice = input(\"Enter your choice (1-5): \").strip()\n",
    "\n",
    "    if choice == \"1\":\n",
    "        name = input(\"Enter student name: \").strip()\n",
    "        grade = input(\"Enter student grade (0-100): \").strip()\n",
    "        result = add_student(students, name, grade)\n",
    "        print(result)\n",
    "\n",
    "    elif choice == \"2\":\n",
    "        average = calculate_average(students)\n",
    "        if students:\n",
    "            print(f\"\\nAverage grade: {average:.2f}\")\n",
    "            print(f\"Total students: {len(students)}\")\n",
    "        else:\n",
    "            print(\"No students in database.\")\n",
    "\n",
    "    elif choice == \"3\":\n",
    "        average = calculate_average(students)\n",
    "        print_above_average_students(students, average)\n",
    "\n",
    "    elif choice == \"4\":\n",
    "        if students:\n",
    "            print(\"\\nAll Students:\")\n",
    "            print(\"-\" * 25)\n",
    "            for name, grade in sorted(students.items()):\n",
    "                print(f\"{name:<15} : {grade:>6.2f}\")\n",
    "        else:\n",
    "            print(\"No students in database.\")\n",
    "\n",
    "    elif choice == \"5\":\n",
    "        print(\"Thank you for using Student Grade Management System!\")\n",
    "        break\n",
    "\n",
    "    else:\n",
    "        print(\"Invalid choice. Please enter a number between 1-5.\")"
   ]
  },
  {
   "cell_type": "code",
   "execution_count": null,
   "id": "9434a11e-c1b0-4ede-97f9-965f271afde9",
   "metadata": {},
   "outputs": [],
   "source": []
  }
 ],
 "metadata": {
  "kernelspec": {
   "display_name": "Python 3 (ipykernel)",
   "language": "python",
   "name": "python3"
  },
  "language_info": {
   "codemirror_mode": {
    "name": "ipython",
    "version": 3
   },
   "file_extension": ".py",
   "mimetype": "text/x-python",
   "name": "python",
   "nbconvert_exporter": "python",
   "pygments_lexer": "ipython3",
   "version": "3.12.11"
  }
 },
 "nbformat": 4,
 "nbformat_minor": 5
}
